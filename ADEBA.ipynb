{
 "cells": [
  {
   "cell_type": "markdown",
   "id": "64bd0aed",
   "metadata": {},
   "source": [
    "# Adaptive Density Estimation By Bayesian Averaging (ADEBA)"
   ]
  },
  {
   "cell_type": "code",
   "execution_count": 1,
   "id": "7d4bf5ca",
   "metadata": {},
   "outputs": [],
   "source": [
    "from sklearn.decomposition import PCA\n",
    "from sklearn.preprocessing import StandardScaler\n",
    "import numpy as np\n",
    "from matplotlib import pyplot as plt\n",
    "import math"
   ]
  },
  {
   "cell_type": "markdown",
   "id": "d88db658",
   "metadata": {},
   "source": [
    "## Creating a toy Data"
   ]
  },
  {
   "cell_type": "code",
   "execution_count": 2,
   "id": "872c7c06",
   "metadata": {},
   "outputs": [
    {
     "data": {
      "image/png": "[encoded data removed]",
      "text/plain": [
       "<Figure size 432x288 with 1 Axes>"
      ]
     },
     "metadata": {
      "needs_background": "light"
     },
     "output_type": "display_data"
    }
   ],
   "source": [
    "def f1(x):\n",
    "    if(x>=0 and x<2):\n",
    "        return x\n",
    "    elif(x>=2 and x<4):\n",
    "        return 4-x\n",
    "    else:\n",
    "        return 0\n",
    "\n",
    "x = np.arange(-1, 6)\n",
    "f1_dist = np.vectorize(f1)\n",
    "p1 = f1_dist(x)\n",
    "plt.plot(x, p1)\n",
    "plt.title('PDF of P1(x)')\n",
    "plt.show()"
   ]
  },
  {
   "cell_type": "code",
   "execution_count": 3,
   "id": "7851f01b",
   "metadata": {},
   "outputs": [],
   "source": [
    "def sample_generator(pdf , N , a, b):\n",
    "    sample = np.linspace(a, b, N)\n",
    "    prob = []\n",
    "    normalizer = 0\n",
    "    for x in sample:\n",
    "        p = pdf(x)\n",
    "        normalizer += p\n",
    "        prob.append(p)\n",
    "    prob = prob / normalizer\n",
    "    return np.random.choice(sample, p=prob, size=N)"
   ]
  },
  {
   "cell_type": "code",
   "execution_count": 4,
   "id": "df52f95a",
   "metadata": {},
   "outputs": [
    {
     "data": {
      "image/png": "[encoded data removed]",
      "text/plain": [
       "<Figure size 432x288 with 1 Axes>"
      ]
     },
     "metadata": {
      "needs_background": "light"
     },
     "output_type": "display_data"
    }
   ],
   "source": [
    "f1_sample = sample_generator(f1, 1000, 0, 6)\n",
    "plt.hist(f1_sample)\n",
    "plt.title('N=1000 for p1(x)')\n",
    "plt.show()"
   ]
  },
  {
   "cell_type": "code",
   "execution_count": 5,
   "id": "1049c825",
   "metadata": {},
   "outputs": [],
   "source": [
    "mean = [1, 1, 0]\n",
    "cov = [[4, 1, -1], [1,2,1], [-1, 1, 2]]\n",
    "f2_sample = np.random.multivariate_normal(mean, cov, 10000)"
   ]
  },
  {
   "cell_type": "markdown",
   "id": "90b173a2",
   "metadata": {},
   "source": [
    "## Data preprocessing"
   ]
  },
  {
   "cell_type": "code",
   "execution_count": 6,
   "id": "2ea224e6",
   "metadata": {},
   "outputs": [],
   "source": [
    "def preprocess(X):\n",
    "    X = StandardScaler().fit_transform(X)\n",
    "    pca = PCA(whiten=True)\n",
    "    whitened = pca.fit_transform(X)\n",
    "    return whitened"
   ]
  },
  {
   "cell_type": "code",
   "execution_count": 7,
   "id": "0f81d8d2",
   "metadata": {},
   "outputs": [
    {
     "data": {
      "text/plain": [
       "array(1.)"
      ]
     },
     "execution_count": 7,
     "metadata": {},
     "output_type": "execute_result"
    }
   ],
   "source": [
    "p = preprocess(np.array(f1_sample).reshape(-1,1))\n",
    "np.cov(p.flatten())"
   ]
  },
  {
   "cell_type": "code",
   "execution_count": 8,
   "id": "671401ea",
   "metadata": {},
   "outputs": [
    {
     "data": {
      "text/plain": [
       "array([[ 1., -0., -0.],\n",
       "       [-0.,  1.,  0.],\n",
       "       [-0.,  0.,  1.]])"
      ]
     },
     "execution_count": 8,
     "metadata": {},
     "output_type": "execute_result"
    }
   ],
   "source": [
    "p = preprocess(np.array(f2_sample))\n",
    "np.round(np.cov(p, rowvar=False))"
   ]
  },
  {
   "cell_type": "markdown",
   "id": "d8098613",
   "metadata": {},
   "source": [
    "## defining ADEBA"
   ]
  },
  {
   "cell_type": "code",
   "execution_count": 9,
   "id": "8fcbe16c",
   "metadata": {},
   "outputs": [],
   "source": [
    "class ADEBA:\n",
    "    def __init__(self, pilot=None, beta=None, T=1000, prior='uniform'):\n",
    "        self.pilot= pilot\n",
    "        self.prior = prior\n",
    "        self.beta = beta\n",
    "        self.T = T\n",
    "        self.alpha=None\n",
    "        self.pca = PCA(whiten=True)\n",
    "        self.scaler = StandardScaler()\n",
    "        \n",
    "        \n",
    "    def _initialize(self, X):\n",
    "        X = self.scaler.fit_transform(X)\n",
    "        whitened = self.pca.fit_transform(X)\n",
    "        return whitened\n",
    "    \n",
    "    def EstimateDensity(self, X):\n",
    "        transformed_data = self._initialize(X)\n",
    "        if self.pilot == None:\n",
    "            self.pilot = np.ones(X.shape)\n",
    "        for i in range(self.T):\n",
    "            A, W = self._findintegration(transformed_data, self.beta)\n",
    "            self.pilot = self._calculatePDF(transformed_data, self.beta, A, W)\n",
    "        return(self.pilot)\n",
    "    \n",
    "    def _findintegration(self, X, B):\n",
    "        a = {}\n",
    "        w = {}\n",
    "        w_sum = 0\n",
    "        for beta in B:\n",
    "            a_beta = self._findAlpha(X, beta) # a list of size 40*1\n",
    "            a_diff = np.diff(np.log10(a_beta))[0]\n",
    "            w_beta = []\n",
    "            for a in a_beta:\n",
    "                bw = (a/(self.pilot)**beta)\n",
    "                w_beta.append(10**(self._loglikelihood(X, bw) + a_diff))\n",
    "            w_sum += np.sum(w_beta)\n",
    "            a[beta] = a_beta\n",
    "            w[beta] = w_beta\n",
    "        for t in w.keys():\n",
    "            w[t] = np.array(w[t])/w_sum\n",
    "        return a, w\n",
    "            \n",
    "    \n",
    "    def _calculatePDF(self, X, B, A, W):\n",
    "        p = X.shape[1]\n",
    "        n = X.shape[0]\n",
    "        final_pdf = np.zeros((X.shape[0], 1))\n",
    "        for beta in B:\n",
    "            a_beta = A[beta]\n",
    "            w_beta = W[beta]\n",
    "            for i in range(len(a_beta)):\n",
    "                bw = a_beta[i]/(self.pilot**beta)\n",
    "                dist = np.zeros((X.shape[0], 1))\n",
    "                for j in range(n):\n",
    "                    for k in range(n):\n",
    "                        dist[j] += (1/(bw[j]**p)) * (1/(np.pi**(p/2))) * np.exp((-1/2)*(np.linalg.norm(X.loc[k] - X.loc[j])/bw[j])**2)\n",
    "                    dist[j] = dist[j]/n\n",
    "                final_pdf += w_beta[i] * dist\n",
    "            \n",
    "        return final_pdf\n",
    "    \n",
    "    def _findAlpha(self, X, beta):\n",
    "        #default vlues of algorithm\n",
    "        alpha_min = 10**(-6)\n",
    "        alpha_max = 10**3\n",
    "        n_alpha1 = 10\n",
    "        n_alpha2 = 40\n",
    "        thresh = 10**(-3)\n",
    "        \n",
    "        for i in range(2):\n",
    "            alpha = np.logspace(np.log10(alpha_min), np.log10(alpha_max), num=n_alpha1)\n",
    "            likelihood = []\n",
    "            for a in alpha:\n",
    "                bw = (a/(self.pilot)**beta)\n",
    "                # beacaue of the fact that prior of alpha and beta is uniform we just calculate likelihood\n",
    "                likelihood.append(self._loglikelihood(X, bw))\n",
    "            likelihood = np.array(likelihood).flatten()\n",
    "            t_max = np.max(likelihood) + np.log10(thresh)\n",
    "            idx = np.where(likelihood >= t_max)[0]\n",
    "            alpha_min, alpha_max = 10**likelihood[max(0, idx[0]-1)], 10**likelihood[min(idx[-1]+1, n_alpha1)]\n",
    "            \n",
    "        alpha = np.logspace(np.log10(alpha_min), np.log10(alpha_max), num=n_alpha2)\n",
    "        print('alpha ', alpha.shape)\n",
    "        return alpha\n",
    "            \n",
    "            \n",
    "    def _loglikelihood(self, X, bw):\n",
    "        # pay attention that it calaulates in leave-one-out manner\n",
    "        p = X.shape[1]\n",
    "        n = X.shape[0]\n",
    "        log_likelihood = 0\n",
    "        for i in range(X.shape[0]):\n",
    "            dist = 0\n",
    "            for j in range(X.shape[0]):\n",
    "                if j != i:\n",
    "                    dist += (1/(bw[j]**p)) * (1/(np.pi**(p/2))) * np.exp((-1/2)*(np.linalg.norm(X[i] - X[j])/bw[j])**2)\n",
    "            if dist != 0:\n",
    "                log_likelihood += np.log10(dist/(n-1))\n",
    "            \n",
    "        return log_likelihood\n",
    "    "
   ]
  },
  {
   "cell_type": "code",
   "execution_count": 11,
   "id": "b1088ea0",
   "metadata": {},
   "outputs": [
    {
     "name": "stderr",
     "output_type": "stream",
     "text": [
      "/var/folders/ln/kl3nf53j0dqg4wmw7_81ccdm0000gn/T/ipykernel_1628/4122352077.py:81: RuntimeWarning: overflow encountered in double_scalars\n",
      "  alpha_min, alpha_max = 10**likelihood[max(0, idx[0]-1)], 10**likelihood[min(idx[-1]+1, n_alpha1)]\n",
      "/opt/anaconda3/lib/python3.9/site-packages/numpy/core/function_base.py:134: RuntimeWarning: invalid value encountered in double_scalars\n",
      "  delta = stop - start\n",
      "/var/folders/ln/kl3nf53j0dqg4wmw7_81ccdm0000gn/T/ipykernel_1628/4122352077.py:78: VisibleDeprecationWarning: Creating an ndarray from ragged nested sequences (which is a list-or-tuple of lists-or-tuples-or ndarrays with different lengths or shapes) is deprecated. If you meant to do this, you must specify 'dtype=object' when creating the ndarray.\n",
      "  likelihood = np.array(likelihood).flatten()\n"
     ]
    },
    {
     "ename": "IndexError",
     "evalue": "index 10 is out of bounds for axis 0 with size 10",
     "output_type": "error",
     "traceback": [
      "\u001b[0;31m---------------------------------------------------------------------------\u001b[0m",
      "\u001b[0;31mIndexError\u001b[0m                                Traceback (most recent call last)",
      "Input \u001b[0;32mIn [11]\u001b[0m, in \u001b[0;36m<cell line: 2>\u001b[0;34m()\u001b[0m\n\u001b[1;32m      1\u001b[0m adeba \u001b[38;5;241m=\u001b[39m ADEBA(beta\u001b[38;5;241m=\u001b[39m[\u001b[38;5;241m0\u001b[39m, \u001b[38;5;241m0.5\u001b[39m, \u001b[38;5;241m1\u001b[39m], T \u001b[38;5;241m=\u001b[39m \u001b[38;5;241m3\u001b[39m)\n\u001b[0;32m----> 2\u001b[0m \u001b[43madeba\u001b[49m\u001b[38;5;241;43m.\u001b[39;49m\u001b[43mEstimateDensity\u001b[49m\u001b[43m(\u001b[49m\u001b[43mnp\u001b[49m\u001b[38;5;241;43m.\u001b[39;49m\u001b[43marray\u001b[49m\u001b[43m(\u001b[49m\u001b[43mf1_sample\u001b[49m\u001b[43m)\u001b[49m\u001b[38;5;241;43m.\u001b[39;49m\u001b[43mreshape\u001b[49m\u001b[43m(\u001b[49m\u001b[38;5;241;43m-\u001b[39;49m\u001b[38;5;241;43m1\u001b[39;49m\u001b[43m,\u001b[49m\u001b[38;5;241;43m1\u001b[39;49m\u001b[43m)\u001b[49m\u001b[43m)\u001b[49m\n",
      "Input \u001b[0;32mIn [9]\u001b[0m, in \u001b[0;36mADEBA.EstimateDensity\u001b[0;34m(self, X)\u001b[0m\n\u001b[1;32m     20\u001b[0m     \u001b[38;5;28mself\u001b[39m\u001b[38;5;241m.\u001b[39mpilot \u001b[38;5;241m=\u001b[39m np\u001b[38;5;241m.\u001b[39mones(X\u001b[38;5;241m.\u001b[39mshape)\n\u001b[1;32m     21\u001b[0m \u001b[38;5;28;01mfor\u001b[39;00m i \u001b[38;5;129;01min\u001b[39;00m \u001b[38;5;28mrange\u001b[39m(\u001b[38;5;28mself\u001b[39m\u001b[38;5;241m.\u001b[39mT):\n\u001b[0;32m---> 22\u001b[0m     A, W \u001b[38;5;241m=\u001b[39m \u001b[38;5;28;43mself\u001b[39;49m\u001b[38;5;241;43m.\u001b[39;49m\u001b[43m_findintegration\u001b[49m\u001b[43m(\u001b[49m\u001b[43mtransformed_data\u001b[49m\u001b[43m,\u001b[49m\u001b[43m \u001b[49m\u001b[38;5;28;43mself\u001b[39;49m\u001b[38;5;241;43m.\u001b[39;49m\u001b[43mbeta\u001b[49m\u001b[43m)\u001b[49m\n\u001b[1;32m     23\u001b[0m     \u001b[38;5;28mself\u001b[39m\u001b[38;5;241m.\u001b[39mpilot \u001b[38;5;241m=\u001b[39m \u001b[38;5;28mself\u001b[39m\u001b[38;5;241m.\u001b[39m_calculatePDF(transformed_data, \u001b[38;5;28mself\u001b[39m\u001b[38;5;241m.\u001b[39mbeta, A, W)\n\u001b[1;32m     24\u001b[0m \u001b[38;5;28;01mreturn\u001b[39;00m(\u001b[38;5;28mself\u001b[39m\u001b[38;5;241m.\u001b[39mpilot)\n",
      "Input \u001b[0;32mIn [9]\u001b[0m, in \u001b[0;36mADEBA._findintegration\u001b[0;34m(self, X, B)\u001b[0m\n\u001b[1;32m     29\u001b[0m w_sum \u001b[38;5;241m=\u001b[39m \u001b[38;5;241m0\u001b[39m\n\u001b[1;32m     30\u001b[0m \u001b[38;5;28;01mfor\u001b[39;00m beta \u001b[38;5;129;01min\u001b[39;00m B:\n\u001b[0;32m---> 31\u001b[0m     a_beta \u001b[38;5;241m=\u001b[39m \u001b[38;5;28;43mself\u001b[39;49m\u001b[38;5;241;43m.\u001b[39;49m\u001b[43m_findAlpha\u001b[49m\u001b[43m(\u001b[49m\u001b[43mX\u001b[49m\u001b[43m,\u001b[49m\u001b[43m \u001b[49m\u001b[43mbeta\u001b[49m\u001b[43m)\u001b[49m \u001b[38;5;66;03m# a list of size 40*1\u001b[39;00m\n\u001b[1;32m     32\u001b[0m     a_diff \u001b[38;5;241m=\u001b[39m np\u001b[38;5;241m.\u001b[39mdiff(np\u001b[38;5;241m.\u001b[39mlog10(a_beta))[\u001b[38;5;241m0\u001b[39m]\n\u001b[1;32m     33\u001b[0m     w_beta \u001b[38;5;241m=\u001b[39m []\n",
      "Input \u001b[0;32mIn [9]\u001b[0m, in \u001b[0;36mADEBA._findAlpha\u001b[0;34m(self, X, beta)\u001b[0m\n\u001b[1;32m     79\u001b[0m     t_max \u001b[38;5;241m=\u001b[39m np\u001b[38;5;241m.\u001b[39mmax(likelihood) \u001b[38;5;241m+\u001b[39m np\u001b[38;5;241m.\u001b[39mlog10(thresh)\n\u001b[1;32m     80\u001b[0m     idx \u001b[38;5;241m=\u001b[39m np\u001b[38;5;241m.\u001b[39mwhere(likelihood \u001b[38;5;241m>\u001b[39m\u001b[38;5;241m=\u001b[39m t_max)[\u001b[38;5;241m0\u001b[39m]\n\u001b[0;32m---> 81\u001b[0m     alpha_min, alpha_max \u001b[38;5;241m=\u001b[39m \u001b[38;5;241m10\u001b[39m\u001b[38;5;241m*\u001b[39m\u001b[38;5;241m*\u001b[39mlikelihood[\u001b[38;5;28mmax\u001b[39m(\u001b[38;5;241m0\u001b[39m, idx[\u001b[38;5;241m0\u001b[39m]\u001b[38;5;241m-\u001b[39m\u001b[38;5;241m1\u001b[39m)], \u001b[38;5;241m10\u001b[39m\u001b[38;5;241m*\u001b[39m\u001b[38;5;241m*\u001b[39m\u001b[43mlikelihood\u001b[49m\u001b[43m[\u001b[49m\u001b[38;5;28;43mmin\u001b[39;49m\u001b[43m(\u001b[49m\u001b[43midx\u001b[49m\u001b[43m[\u001b[49m\u001b[38;5;241;43m-\u001b[39;49m\u001b[38;5;241;43m1\u001b[39;49m\u001b[43m]\u001b[49m\u001b[38;5;241;43m+\u001b[39;49m\u001b[38;5;241;43m1\u001b[39;49m\u001b[43m,\u001b[49m\u001b[43m \u001b[49m\u001b[43mn_alpha1\u001b[49m\u001b[43m)\u001b[49m\u001b[43m]\u001b[49m\n\u001b[1;32m     83\u001b[0m alpha \u001b[38;5;241m=\u001b[39m np\u001b[38;5;241m.\u001b[39mlogspace(np\u001b[38;5;241m.\u001b[39mlog10(alpha_min), np\u001b[38;5;241m.\u001b[39mlog10(alpha_max), num\u001b[38;5;241m=\u001b[39mn_alpha2)\n\u001b[1;32m     84\u001b[0m \u001b[38;5;28mprint\u001b[39m(\u001b[38;5;124m'\u001b[39m\u001b[38;5;124malpha \u001b[39m\u001b[38;5;124m'\u001b[39m, alpha\u001b[38;5;241m.\u001b[39mshape)\n",
      "\u001b[0;31mIndexError\u001b[0m: index 10 is out of bounds for axis 0 with size 10"
     ]
    }
   ],
   "source": [
    "adeba = ADEBA(beta=[0, 0.5, 1], T = 3)\n",
    "adeba.EstimateDensity(np.array(f1_sample).reshape(-1,1))"
   ]
  },
  {
   "cell_type": "code",
   "execution_count": 79,
   "id": "c7e975d3",
   "metadata": {},
   "outputs": [
    {
     "data": {
      "text/plain": [
       "1.0"
      ]
     },
     "execution_count": 79,
     "metadata": {},
     "output_type": "execute_result"
    }
   ],
   "source": [
    "np.linalg.norm(np.array([1]) - np.array([2]))"
   ]
  },
  {
   "cell_type": "markdown",
   "id": "4dbce81a",
   "metadata": {},
   "source": [
    "## creating benchmarks"
   ]
  },
  {
   "cell_type": "code",
   "execution_count": 10,
   "id": "98f03b28",
   "metadata": {},
   "outputs": [
    {
     "data": {
      "image/png": "[encoded data removed]",
      "text/plain": [
       "<Figure size 432x288 with 1 Axes>"
      ]
     },
     "metadata": {
      "needs_background": "light"
     },
     "output_type": "display_data"
    }
   ],
   "source": [
    "import numpy as np\n",
    "import matplotlib.pyplot as plt\n",
    "\n",
    "def dist_calc(x, s, w, m):\n",
    "    final_dist = w[0] * np.exp(-((x - m[0])/s[0])**2 / 2) / (s[0] * np.sqrt(2 * np.pi))\n",
    "    for i in range(1,len(s)):\n",
    "        final_dist += w[i] * np.exp(-((x - m[i])/s[i])**2 / 2) / (s[i] * np.sqrt(2 * np.pi))\n",
    "    return final_dist\n",
    "\n",
    "x = np.linspace(-3, 3, 1000)\n",
    "s = [1, 1/10]\n",
    "w = [2/3, 1/3]\n",
    "x0 = [0, 0]\n",
    "\n",
    "y = dist_calc(x, s, w, x0)\n",
    "\n",
    "plt.plot(x, y)\n",
    "plt.show()"
   ]
  },
  {
   "cell_type": "code",
   "execution_count": 11,
   "id": "06bb680d",
   "metadata": {},
   "outputs": [
    {
     "ename": "TypeError",
     "evalue": "unsupported operand type(s) for /: 'list' and 'int'",
     "output_type": "error",
     "traceback": [
      "\u001b[0;31m---------------------------------------------------------------------------\u001b[0m",
      "\u001b[0;31mTypeError\u001b[0m                                 Traceback (most recent call last)",
      "Input \u001b[0;32mIn [11]\u001b[0m, in \u001b[0;36m<cell line: 2>\u001b[0;34m()\u001b[0m\n\u001b[1;32m      1\u001b[0m distributions \u001b[38;5;241m=\u001b[39m [\n\u001b[1;32m      2\u001b[0m     {\u001b[38;5;124m\"\u001b[39m\u001b[38;5;124mName\u001b[39m\u001b[38;5;124m\"\u001b[39m: \u001b[38;5;124m\"\u001b[39m\u001b[38;5;124mGaussian\u001b[39m\u001b[38;5;124m\"\u001b[39m, \u001b[38;5;124m\"\u001b[39m\u001b[38;5;124ms\u001b[39m\u001b[38;5;124m\"\u001b[39m: \u001b[38;5;241m1\u001b[39m, \u001b[38;5;124m\"\u001b[39m\u001b[38;5;124mw\u001b[39m\u001b[38;5;124m\"\u001b[39m: \u001b[38;5;241m1\u001b[39m, \u001b[38;5;124m\"\u001b[39m\u001b[38;5;124mx\u001b[39m\u001b[38;5;124m\"\u001b[39m: \u001b[38;5;241m0\u001b[39m},\n\u001b[0;32m----> 3\u001b[0m     {\u001b[38;5;124m\"\u001b[39m\u001b[38;5;124mName\u001b[39m\u001b[38;5;124m\"\u001b[39m: \u001b[38;5;124m\"\u001b[39m\u001b[38;5;124mSkewed\u001b[39m\u001b[38;5;124m\"\u001b[39m, \u001b[38;5;124m\"\u001b[39m\u001b[38;5;124ms\u001b[39m\u001b[38;5;124m\"\u001b[39m: [\u001b[38;5;241m1\u001b[39m, \u001b[38;5;241m2\u001b[39m\u001b[38;5;241m/\u001b[39m\u001b[38;5;241m3\u001b[39m, \u001b[38;5;241m5\u001b[39m\u001b[38;5;241m/\u001b[39m\u001b[38;5;241m9\u001b[39m], \u001b[38;5;124m\"\u001b[39m\u001b[38;5;124mw\u001b[39m\u001b[38;5;124m\"\u001b[39m: \u001b[43m[\u001b[49m\u001b[38;5;241;43m1\u001b[39;49m\u001b[43m,\u001b[49m\u001b[43m \u001b[49m\u001b[38;5;241;43m1\u001b[39;49m\u001b[43m,\u001b[49m\u001b[43m \u001b[49m\u001b[38;5;241;43m3\u001b[39;49m\u001b[43m]\u001b[49m\u001b[38;5;241;43m/\u001b[39;49m\u001b[38;5;241;43m5\u001b[39;49m, \u001b[38;5;124m\"\u001b[39m\u001b[38;5;124mx\u001b[39m\u001b[38;5;124m\"\u001b[39m: [\u001b[38;5;241m0\u001b[39m, \u001b[38;5;241m1\u001b[39m\u001b[38;5;241m/\u001b[39m\u001b[38;5;241m2\u001b[39m, \u001b[38;5;241m13\u001b[39m\u001b[38;5;241m/\u001b[39m\u001b[38;5;241m12\u001b[39m]},\n\u001b[1;32m      4\u001b[0m     {\u001b[38;5;124m\"\u001b[39m\u001b[38;5;124mName\u001b[39m\u001b[38;5;124m\"\u001b[39m: \u001b[38;5;124m\"\u001b[39m\u001b[38;5;124mStrongly skewed\u001b[39m\u001b[38;5;124m\"\u001b[39m, \u001b[38;5;124m\"\u001b[39m\u001b[38;5;124ms\u001b[39m\u001b[38;5;124m\"\u001b[39m: [(\u001b[38;5;241m2\u001b[39m\u001b[38;5;241m/\u001b[39m\u001b[38;5;241m3\u001b[39m)\u001b[38;5;241m*\u001b[39m\u001b[38;5;241m*\u001b[39mi \u001b[38;5;28;01mfor\u001b[39;00m i \u001b[38;5;129;01min\u001b[39;00m \u001b[38;5;28mrange\u001b[39m(\u001b[38;5;241m0\u001b[39m,\u001b[38;5;241m8\u001b[39m)], \u001b[38;5;124m\"\u001b[39m\u001b[38;5;124mw\u001b[39m\u001b[38;5;124m\"\u001b[39m: [\u001b[38;5;241m1\u001b[39m\u001b[38;5;241m/\u001b[39m\u001b[38;5;241m8\u001b[39m]\u001b[38;5;241m*\u001b[39m\u001b[38;5;241m8\u001b[39m, \u001b[38;5;124m\"\u001b[39m\u001b[38;5;124mx\u001b[39m\u001b[38;5;124m\"\u001b[39m: [\u001b[38;5;241m3\u001b[39m\u001b[38;5;241m*\u001b[39m((\u001b[38;5;241m2\u001b[39m\u001b[38;5;241m/\u001b[39m\u001b[38;5;241m3\u001b[39m)\u001b[38;5;241m*\u001b[39m\u001b[38;5;241m*\u001b[39mi \u001b[38;5;241m-\u001b[39m \u001b[38;5;241m1\u001b[39m) \u001b[38;5;28;01mfor\u001b[39;00m i \u001b[38;5;129;01min\u001b[39;00m \u001b[38;5;28mrange\u001b[39m(\u001b[38;5;241m0\u001b[39m,\u001b[38;5;241m8\u001b[39m)]},\n\u001b[1;32m      5\u001b[0m     {\u001b[38;5;124m\"\u001b[39m\u001b[38;5;124mName\u001b[39m\u001b[38;5;124m\"\u001b[39m: \u001b[38;5;124m\"\u001b[39m\u001b[38;5;124mKurtotic\u001b[39m\u001b[38;5;124m\"\u001b[39m, \u001b[38;5;124m\"\u001b[39m\u001b[38;5;124ms\u001b[39m\u001b[38;5;124m\"\u001b[39m: [\u001b[38;5;241m1\u001b[39m, \u001b[38;5;241m1\u001b[39m\u001b[38;5;241m/\u001b[39m\u001b[38;5;241m10\u001b[39m], \u001b[38;5;124m\"\u001b[39m\u001b[38;5;124mw\u001b[39m\u001b[38;5;124m\"\u001b[39m: [\u001b[38;5;241m2\u001b[39m, \u001b[38;5;241m1\u001b[39m]\u001b[38;5;241m/\u001b[39m\u001b[38;5;241m3\u001b[39m, \u001b[38;5;124m\"\u001b[39m\u001b[38;5;124mx\u001b[39m\u001b[38;5;124m\"\u001b[39m: [\u001b[38;5;241m0\u001b[39m, \u001b[38;5;241m0\u001b[39m]},\n\u001b[1;32m      6\u001b[0m     {\u001b[38;5;124m\"\u001b[39m\u001b[38;5;124mName\u001b[39m\u001b[38;5;124m\"\u001b[39m: \u001b[38;5;124m\"\u001b[39m\u001b[38;5;124mOutliers\u001b[39m\u001b[38;5;124m\"\u001b[39m, \u001b[38;5;124m\"\u001b[39m\u001b[38;5;124ms\u001b[39m\u001b[38;5;124m\"\u001b[39m: [\u001b[38;5;241m1\u001b[39m, \u001b[38;5;241m1\u001b[39m\u001b[38;5;241m/\u001b[39m\u001b[38;5;241m10\u001b[39m], \u001b[38;5;124m\"\u001b[39m\u001b[38;5;124mw\u001b[39m\u001b[38;5;124m\"\u001b[39m: [\u001b[38;5;241m1\u001b[39m, \u001b[38;5;241m9\u001b[39m]\u001b[38;5;241m/\u001b[39m\u001b[38;5;241m10\u001b[39m, \u001b[38;5;124m\"\u001b[39m\u001b[38;5;124mx\u001b[39m\u001b[38;5;124m\"\u001b[39m: [\u001b[38;5;241m0\u001b[39m, \u001b[38;5;241m0\u001b[39m]},\n\u001b[1;32m      7\u001b[0m \n\u001b[1;32m      8\u001b[0m     {\u001b[38;5;124m\"\u001b[39m\u001b[38;5;124mName\u001b[39m\u001b[38;5;124m\"\u001b[39m: \u001b[38;5;124m\"\u001b[39m\u001b[38;5;124mBimodal\u001b[39m\u001b[38;5;124m\"\u001b[39m, \u001b[38;5;124m\"\u001b[39m\u001b[38;5;124ms\u001b[39m\u001b[38;5;124m\"\u001b[39m: [\u001b[38;5;241m2\u001b[39m\u001b[38;5;241m/\u001b[39m\u001b[38;5;241m3\u001b[39m]\u001b[38;5;241m*\u001b[39m\u001b[38;5;241m2\u001b[39m, \u001b[38;5;124m\"\u001b[39m\u001b[38;5;124mw\u001b[39m\u001b[38;5;124m\"\u001b[39m: [\u001b[38;5;241m.5\u001b[39m, \u001b[38;5;241m.5\u001b[39m], \u001b[38;5;124m\"\u001b[39m\u001b[38;5;124mx\u001b[39m\u001b[38;5;124m\"\u001b[39m: [\u001b[38;5;241m-\u001b[39m\u001b[38;5;241m1\u001b[39m, \u001b[38;5;241m1\u001b[39m]},\n\u001b[1;32m      9\u001b[0m     {\u001b[38;5;124m\"\u001b[39m\u001b[38;5;124mName\u001b[39m\u001b[38;5;124m\"\u001b[39m: \u001b[38;5;124m\"\u001b[39m\u001b[38;5;124mSeparated\u001b[39m\u001b[38;5;124m\"\u001b[39m, \u001b[38;5;124m\"\u001b[39m\u001b[38;5;124ms\u001b[39m\u001b[38;5;124m\"\u001b[39m: [\u001b[38;5;241m.5\u001b[39m, \u001b[38;5;241m.5\u001b[39m], \u001b[38;5;124m\"\u001b[39m\u001b[38;5;124mw\u001b[39m\u001b[38;5;124m\"\u001b[39m: [\u001b[38;5;241m.5\u001b[39m, \u001b[38;5;241m.5\u001b[39m], \u001b[38;5;124m\"\u001b[39m\u001b[38;5;124mx\u001b[39m\u001b[38;5;124m\"\u001b[39m: [\u001b[38;5;241m-\u001b[39m\u001b[38;5;241m1.5\u001b[39m, \u001b[38;5;241m1.5\u001b[39m]},\n\u001b[1;32m     10\u001b[0m     {\u001b[38;5;124m\"\u001b[39m\u001b[38;5;124mName\u001b[39m\u001b[38;5;124m\"\u001b[39m: \u001b[38;5;124m\"\u001b[39m\u001b[38;5;124mAsm. Bimodal\u001b[39m\u001b[38;5;124m\"\u001b[39m, \u001b[38;5;124m\"\u001b[39m\u001b[38;5;124ms\u001b[39m\u001b[38;5;124m\"\u001b[39m: [\u001b[38;5;241m1\u001b[39m, \u001b[38;5;241m1\u001b[39m\u001b[38;5;241m/\u001b[39m\u001b[38;5;241m3\u001b[39m], \u001b[38;5;124m\"\u001b[39m\u001b[38;5;124mw\u001b[39m\u001b[38;5;124m\"\u001b[39m: [\u001b[38;5;241m.75\u001b[39m, \u001b[38;5;241m.25\u001b[39m], \u001b[38;5;124m\"\u001b[39m\u001b[38;5;124mx\u001b[39m\u001b[38;5;124m\"\u001b[39m: [\u001b[38;5;241m0\u001b[39m, \u001b[38;5;241m1.5\u001b[39m]},\n\u001b[1;32m     11\u001b[0m     {\u001b[38;5;124m\"\u001b[39m\u001b[38;5;124mName\u001b[39m\u001b[38;5;124m\"\u001b[39m: \u001b[38;5;124m\"\u001b[39m\u001b[38;5;124mTrimodal\u001b[39m\u001b[38;5;124m\"\u001b[39m, \u001b[38;5;124m\"\u001b[39m\u001b[38;5;124ms\u001b[39m\u001b[38;5;124m\"\u001b[39m: [\u001b[38;5;241m.6\u001b[39m, \u001b[38;5;241m.6\u001b[39m, \u001b[38;5;241m.25\u001b[39m], \u001b[38;5;124m\"\u001b[39m\u001b[38;5;124mw\u001b[39m\u001b[38;5;124m\"\u001b[39m: [\u001b[38;5;241m9\u001b[39m, \u001b[38;5;241m9\u001b[39m, \u001b[38;5;241m2\u001b[39m]\u001b[38;5;241m/\u001b[39m\u001b[38;5;241m20\u001b[39m, \u001b[38;5;124m\"\u001b[39m\u001b[38;5;124mx\u001b[39m\u001b[38;5;124m\"\u001b[39m: [\u001b[38;5;241m-\u001b[39m\u001b[38;5;241m1.2\u001b[39m, \u001b[38;5;241m1.2\u001b[39m, \u001b[38;5;241m0\u001b[39m]},\n\u001b[1;32m     12\u001b[0m     {\u001b[38;5;124m\"\u001b[39m\u001b[38;5;124mName\u001b[39m\u001b[38;5;124m\"\u001b[39m: \u001b[38;5;124m\"\u001b[39m\u001b[38;5;124mClaw\u001b[39m\u001b[38;5;124m\"\u001b[39m, \u001b[38;5;124m\"\u001b[39m\u001b[38;5;124ms\u001b[39m\u001b[38;5;124m\"\u001b[39m: [\u001b[38;5;241m1\u001b[39m]\u001b[38;5;241m+\u001b[39m[\u001b[38;5;241m.1\u001b[39m]\u001b[38;5;241m*\u001b[39m\u001b[38;5;241m5\u001b[39m, \u001b[38;5;124m\"\u001b[39m\u001b[38;5;124mw\u001b[39m\u001b[38;5;124m\"\u001b[39m: [\u001b[38;5;241m.5\u001b[39m]\u001b[38;5;241m+\u001b[39m[\u001b[38;5;241m.1\u001b[39m]\u001b[38;5;241m*\u001b[39m\u001b[38;5;241m5\u001b[39m, \u001b[38;5;124m\"\u001b[39m\u001b[38;5;124mx\u001b[39m\u001b[38;5;124m\"\u001b[39m: [\u001b[38;5;241m0\u001b[39m]\u001b[38;5;241m+\u001b[39m[i\u001b[38;5;241m/\u001b[39m\u001b[38;5;241m2\u001b[39m\u001b[38;5;241m-\u001b[39m\u001b[38;5;241m1\u001b[39m \u001b[38;5;28;01mfor\u001b[39;00m i \u001b[38;5;129;01min\u001b[39;00m \u001b[38;5;28mrange\u001b[39m(\u001b[38;5;241m0\u001b[39m,\u001b[38;5;241m10\u001b[39m,\u001b[38;5;241m2\u001b[39m)]},\n\u001b[1;32m     13\u001b[0m \n\u001b[1;32m     14\u001b[0m     {\u001b[38;5;124m\"\u001b[39m\u001b[38;5;124mName\u001b[39m\u001b[38;5;124m\"\u001b[39m: \u001b[38;5;124m\"\u001b[39m\u001b[38;5;124mDouble Claw\u001b[39m\u001b[38;5;124m\"\u001b[39m, \u001b[38;5;124m\"\u001b[39m\u001b[38;5;124ms\u001b[39m\u001b[38;5;124m\"\u001b[39m: [\u001b[38;5;241m2\u001b[39m\u001b[38;5;241m/\u001b[39m\u001b[38;5;241m3\u001b[39m, \u001b[38;5;241m2\u001b[39m\u001b[38;5;241m/\u001b[39m\u001b[38;5;241m3\u001b[39m]\u001b[38;5;241m+\u001b[39m[\u001b[38;5;241m.01\u001b[39m]\u001b[38;5;241m*\u001b[39m\u001b[38;5;241m7\u001b[39m, \u001b[38;5;124m\"\u001b[39m\u001b[38;5;124mw\u001b[39m\u001b[38;5;124m\"\u001b[39m: [\u001b[38;5;241m.49\u001b[39m, \u001b[38;5;241m.49\u001b[39m]\u001b[38;5;241m+\u001b[39m[\u001b[38;5;241m1\u001b[39m\u001b[38;5;241m/\u001b[39m\u001b[38;5;241m350\u001b[39m]\u001b[38;5;241m*\u001b[39m\u001b[38;5;241m7\u001b[39m, \u001b[38;5;124m\"\u001b[39m\u001b[38;5;124mx\u001b[39m\u001b[38;5;124m\"\u001b[39m: [\u001b[38;5;241m-\u001b[39m\u001b[38;5;241m1\u001b[39m, \u001b[38;5;241m1\u001b[39m]\u001b[38;5;241m+\u001b[39m[i \u001b[38;5;28;01mfor\u001b[39;00m i \u001b[38;5;129;01min\u001b[39;00m [\u001b[38;5;241m-\u001b[39m\u001b[38;5;241m1.5\u001b[39m, \u001b[38;5;241m1.5\u001b[39m]\u001b[38;5;241m+\u001b[39m[\u001b[38;5;241m.5\u001b[39m]\u001b[38;5;241m*\u001b[39m\u001b[38;5;241m7\u001b[39m]},\n\u001b[1;32m     15\u001b[0m     {\u001b[38;5;124m\"\u001b[39m\u001b[38;5;124mName\u001b[39m\u001b[38;5;124m\"\u001b[39m: \u001b[38;5;124m\"\u001b[39m\u001b[38;5;124mAsymmetric Claw\u001b[39m\u001b[38;5;124m\"\u001b[39m, \u001b[38;5;124m\"\u001b[39m\u001b[38;5;124ms\u001b[39m\u001b[38;5;124m\"\u001b[39m: [\u001b[38;5;241m1\u001b[39m]\u001b[38;5;241m+\u001b[39m[\u001b[38;5;241m2\u001b[39m\u001b[38;5;241m*\u001b[39m\u001b[38;5;241m*\u001b[39mi\u001b[38;5;241m/\u001b[39m\u001b[38;5;241m10\u001b[39m \u001b[38;5;28;01mfor\u001b[39;00m i \u001b[38;5;129;01min\u001b[39;00m \u001b[38;5;28mrange\u001b[39m(\u001b[38;5;241m2\u001b[39m,\u001b[38;5;241m-\u001b[39m\u001b[38;5;241m3\u001b[39m,\u001b[38;5;241m-\u001b[39m\u001b[38;5;241m1\u001b[39m)], \u001b[38;5;124m\"\u001b[39m\u001b[38;5;124mw\u001b[39m\u001b[38;5;124m\"\u001b[39m: [\u001b[38;5;241m1\u001b[39m\u001b[38;5;241m/\u001b[39m\u001b[38;5;241m2\u001b[39m]\u001b[38;5;241m+\u001b[39m[\u001b[38;5;241m2\u001b[39m\u001b[38;5;241m*\u001b[39m\u001b[38;5;241m*\u001b[39mi\u001b[38;5;241m/\u001b[39m\u001b[38;5;241m31\u001b[39m \u001b[38;5;28;01mfor\u001b[39;00m i \u001b[38;5;129;01min\u001b[39;00m \u001b[38;5;28mrange\u001b[39m(\u001b[38;5;241m3\u001b[39m,\u001b[38;5;241m-\u001b[39m\u001b[38;5;241m2\u001b[39m,\u001b[38;5;241m-\u001b[39m\u001b[38;5;241m1\u001b[39m)], \u001b[38;5;124m\"\u001b[39m\u001b[38;5;124mx\u001b[39m\u001b[38;5;124m\"\u001b[39m: [\u001b[38;5;241m0\u001b[39m]\u001b[38;5;241m+\u001b[39m[i \u001b[38;5;28;01mfor\u001b[39;00m i \u001b[38;5;129;01min\u001b[39;00m \u001b[38;5;28mrange\u001b[39m(\u001b[38;5;241m-\u001b[39m\u001b[38;5;241m1.5\u001b[39m, \u001b[38;5;241m2.6\u001b[39m)]},\n\u001b[1;32m     16\u001b[0m     {\u001b[38;5;124m\"\u001b[39m\u001b[38;5;124mName\u001b[39m\u001b[38;5;124m\"\u001b[39m: \u001b[38;5;124m\"\u001b[39m\u001b[38;5;124mAsm. Dbl. Claw\u001b[39m\u001b[38;5;124m\"\u001b[39m, \u001b[38;5;124m\"\u001b[39m\u001b[38;5;124ms\u001b[39m\u001b[38;5;124m\"\u001b[39m: [\u001b[38;5;241m2\u001b[39m\u001b[38;5;241m/\u001b[39m\u001b[38;5;241m3\u001b[39m, \u001b[38;5;241m2\u001b[39m\u001b[38;5;241m/\u001b[39m\u001b[38;5;241m3\u001b[39m]\u001b[38;5;241m+\u001b[39m[\u001b[38;5;241m.01\u001b[39m]\u001b[38;5;241m*\u001b[39m\u001b[38;5;241m3\u001b[39m\u001b[38;5;241m+\u001b[39m[\u001b[38;5;241m.07\u001b[39m]\u001b[38;5;241m*\u001b[39m\u001b[38;5;241m3\u001b[39m, \u001b[38;5;124m\"\u001b[39m\u001b[38;5;124mw\u001b[39m\u001b[38;5;124m\"\u001b[39m: [\u001b[38;5;241m.46\u001b[39m, \u001b[38;5;241m.46\u001b[39m]\u001b[38;5;241m+\u001b[39m[\u001b[38;5;241m1\u001b[39m\u001b[38;5;241m/\u001b[39m\u001b[38;5;241m300\u001b[39m]\u001b[38;5;241m*\u001b[39m\u001b[38;5;241m3\u001b[39m}\n\u001b[1;32m     17\u001b[0m ]\n",
      "\u001b[0;31mTypeError\u001b[0m: unsupported operand type(s) for /: 'list' and 'int'"
     ]
    }
   ],
   "source": [
    "distributions = [\n",
    "    {\"Name\": \"Gaussian\", \"s\": 1, \"w\": 1, \"x\": 0},\n",
    "    {\"Name\": \"Skewed\", \"s\": [1, 2/3, 5/9], \"w\": [1, 1, 3]/5, \"x\": [0, 1/2, 13/12]},\n",
    "    {\"Name\": \"Strongly skewed\", \"s\": [(2/3)**i for i in range(0,8)], \"w\": [1/8]*8, \"x\": [3*((2/3)**i - 1) for i in range(0,8)]},\n",
    "    {\"Name\": \"Kurtotic\", \"s\": [1, 1/10], \"w\": [2, 1]/3, \"x\": [0, 0]},\n",
    "    {\"Name\": \"Outliers\", \"s\": [1, 1/10], \"w\": [1, 9]/10, \"x\": [0, 0]},\n",
    "\n",
    "    {\"Name\": \"Bimodal\", \"s\": [2/3]*2, \"w\": [.5, .5], \"x\": [-1, 1]},\n",
    "    {\"Name\": \"Separated\", \"s\": [.5, .5], \"w\": [.5, .5], \"x\": [-1.5, 1.5]},\n",
    "    {\"Name\": \"Asm. Bimodal\", \"s\": [1, 1/3], \"w\": [.75, .25], \"x\": [0, 1.5]},\n",
    "    {\"Name\": \"Trimodal\", \"s\": [.6, .6, .25], \"w\": [9, 9, 2]/20, \"x\": [-1.2, 1.2, 0]},\n",
    "    {\"Name\": \"Claw\", \"s\": [1]+[.1]*5, \"w\": [.5]+[.1]*5, \"x\": [0]+[i/2-1 for i in range(0,10,2)]},\n",
    "\n",
    "    {\"Name\": \"Double Claw\", \"s\": [2/3, 2/3]+[.01]*7, \"w\": [.49, .49]+[1/350]*7, \"x\": [-1, 1]+[i for i in [-1.5, 1.5]+[.5]*7]},\n",
    "    {\"Name\": \"Asymmetric Claw\", \"s\": [1]+[2**i/10 for i in range(2,-3,-1)], \"w\": [1/2]+[2**i/31 for i in range(3,-2,-1)], \"x\": [0]+[i for i in range(-1.5, 2.6)]},\n",
    "    {\"Name\": \"Asm. Dbl. Claw\", \"s\": [2/3, 2/3]+[.01]*3+[.07]*3, \"w\": [.46, .46]+[1/300]*3}\n",
    "]"
   ]
  },
  {
   "cell_type": "code",
   "execution_count": null,
   "id": "03266248",
   "metadata": {},
   "outputs": [],
   "source": []
  }
 ],
 "metadata": {
  "kernelspec": {
   "display_name": "Python 3 (ipykernel)",
   "language": "python",
   "name": "python3"
  },
  "language_info": {
   "codemirror_mode": {
    "name": "ipython",
    "version": 3
   },
   "file_extension": ".py",
   "mimetype": "text/x-python",
   "name": "python",
   "nbconvert_exporter": "python",
   "pygments_lexer": "ipython3",
   "version": "3.9.12"
  }
 },
 "nbformat": 4,
 "nbformat_minor": 5
}
